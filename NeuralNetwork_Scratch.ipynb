{
  "nbformat": 4,
  "nbformat_minor": 0,
  "metadata": {
    "colab": {
      "provenance": [],
      "toc_visible": true
    },
    "kernelspec": {
      "name": "python3",
      "display_name": "Python 3"
    },
    "language_info": {
      "name": "python"
    }
  },
  "cells": [
    {
      "cell_type": "markdown",
      "source": [
        "# Neural Network from scratch using Numpy"
      ],
      "metadata": {
        "id": "O57wYYshD0k1"
      }
    },
    {
      "cell_type": "code",
      "execution_count": 39,
      "metadata": {
        "colab": {
          "base_uri": "https://localhost:8080/",
          "height": 88
        },
        "id": "oFCUJuFygsGy",
        "outputId": "7aaf62c6-e69f-4703-a0a7-b754cd8b7846"
      },
      "outputs": [
        {
          "output_type": "display_data",
          "data": {
            "text/plain": [
              "<IPython.core.display.HTML object>"
            ],
            "text/html": [
              "\n",
              "     <input type=\"file\" id=\"files-057c3f85-ee3b-47c1-a7ff-a5002a3de9eb\" name=\"files[]\" multiple disabled\n",
              "        style=\"border:none\" />\n",
              "     <output id=\"result-057c3f85-ee3b-47c1-a7ff-a5002a3de9eb\">\n",
              "      Upload widget is only available when the cell has been executed in the\n",
              "      current browser session. Please rerun this cell to enable.\n",
              "      </output>\n",
              "      <script>// Copyright 2017 Google LLC\n",
              "//\n",
              "// Licensed under the Apache License, Version 2.0 (the \"License\");\n",
              "// you may not use this file except in compliance with the License.\n",
              "// You may obtain a copy of the License at\n",
              "//\n",
              "//      http://www.apache.org/licenses/LICENSE-2.0\n",
              "//\n",
              "// Unless required by applicable law or agreed to in writing, software\n",
              "// distributed under the License is distributed on an \"AS IS\" BASIS,\n",
              "// WITHOUT WARRANTIES OR CONDITIONS OF ANY KIND, either express or implied.\n",
              "// See the License for the specific language governing permissions and\n",
              "// limitations under the License.\n",
              "\n",
              "/**\n",
              " * @fileoverview Helpers for google.colab Python module.\n",
              " */\n",
              "(function(scope) {\n",
              "function span(text, styleAttributes = {}) {\n",
              "  const element = document.createElement('span');\n",
              "  element.textContent = text;\n",
              "  for (const key of Object.keys(styleAttributes)) {\n",
              "    element.style[key] = styleAttributes[key];\n",
              "  }\n",
              "  return element;\n",
              "}\n",
              "\n",
              "// Max number of bytes which will be uploaded at a time.\n",
              "const MAX_PAYLOAD_SIZE = 100 * 1024;\n",
              "\n",
              "function _uploadFiles(inputId, outputId) {\n",
              "  const steps = uploadFilesStep(inputId, outputId);\n",
              "  const outputElement = document.getElementById(outputId);\n",
              "  // Cache steps on the outputElement to make it available for the next call\n",
              "  // to uploadFilesContinue from Python.\n",
              "  outputElement.steps = steps;\n",
              "\n",
              "  return _uploadFilesContinue(outputId);\n",
              "}\n",
              "\n",
              "// This is roughly an async generator (not supported in the browser yet),\n",
              "// where there are multiple asynchronous steps and the Python side is going\n",
              "// to poll for completion of each step.\n",
              "// This uses a Promise to block the python side on completion of each step,\n",
              "// then passes the result of the previous step as the input to the next step.\n",
              "function _uploadFilesContinue(outputId) {\n",
              "  const outputElement = document.getElementById(outputId);\n",
              "  const steps = outputElement.steps;\n",
              "\n",
              "  const next = steps.next(outputElement.lastPromiseValue);\n",
              "  return Promise.resolve(next.value.promise).then((value) => {\n",
              "    // Cache the last promise value to make it available to the next\n",
              "    // step of the generator.\n",
              "    outputElement.lastPromiseValue = value;\n",
              "    return next.value.response;\n",
              "  });\n",
              "}\n",
              "\n",
              "/**\n",
              " * Generator function which is called between each async step of the upload\n",
              " * process.\n",
              " * @param {string} inputId Element ID of the input file picker element.\n",
              " * @param {string} outputId Element ID of the output display.\n",
              " * @return {!Iterable<!Object>} Iterable of next steps.\n",
              " */\n",
              "function* uploadFilesStep(inputId, outputId) {\n",
              "  const inputElement = document.getElementById(inputId);\n",
              "  inputElement.disabled = false;\n",
              "\n",
              "  const outputElement = document.getElementById(outputId);\n",
              "  outputElement.innerHTML = '';\n",
              "\n",
              "  const pickedPromise = new Promise((resolve) => {\n",
              "    inputElement.addEventListener('change', (e) => {\n",
              "      resolve(e.target.files);\n",
              "    });\n",
              "  });\n",
              "\n",
              "  const cancel = document.createElement('button');\n",
              "  inputElement.parentElement.appendChild(cancel);\n",
              "  cancel.textContent = 'Cancel upload';\n",
              "  const cancelPromise = new Promise((resolve) => {\n",
              "    cancel.onclick = () => {\n",
              "      resolve(null);\n",
              "    };\n",
              "  });\n",
              "\n",
              "  // Wait for the user to pick the files.\n",
              "  const files = yield {\n",
              "    promise: Promise.race([pickedPromise, cancelPromise]),\n",
              "    response: {\n",
              "      action: 'starting',\n",
              "    }\n",
              "  };\n",
              "\n",
              "  cancel.remove();\n",
              "\n",
              "  // Disable the input element since further picks are not allowed.\n",
              "  inputElement.disabled = true;\n",
              "\n",
              "  if (!files) {\n",
              "    return {\n",
              "      response: {\n",
              "        action: 'complete',\n",
              "      }\n",
              "    };\n",
              "  }\n",
              "\n",
              "  for (const file of files) {\n",
              "    const li = document.createElement('li');\n",
              "    li.append(span(file.name, {fontWeight: 'bold'}));\n",
              "    li.append(span(\n",
              "        `(${file.type || 'n/a'}) - ${file.size} bytes, ` +\n",
              "        `last modified: ${\n",
              "            file.lastModifiedDate ? file.lastModifiedDate.toLocaleDateString() :\n",
              "                                    'n/a'} - `));\n",
              "    const percent = span('0% done');\n",
              "    li.appendChild(percent);\n",
              "\n",
              "    outputElement.appendChild(li);\n",
              "\n",
              "    const fileDataPromise = new Promise((resolve) => {\n",
              "      const reader = new FileReader();\n",
              "      reader.onload = (e) => {\n",
              "        resolve(e.target.result);\n",
              "      };\n",
              "      reader.readAsArrayBuffer(file);\n",
              "    });\n",
              "    // Wait for the data to be ready.\n",
              "    let fileData = yield {\n",
              "      promise: fileDataPromise,\n",
              "      response: {\n",
              "        action: 'continue',\n",
              "      }\n",
              "    };\n",
              "\n",
              "    // Use a chunked sending to avoid message size limits. See b/62115660.\n",
              "    let position = 0;\n",
              "    do {\n",
              "      const length = Math.min(fileData.byteLength - position, MAX_PAYLOAD_SIZE);\n",
              "      const chunk = new Uint8Array(fileData, position, length);\n",
              "      position += length;\n",
              "\n",
              "      const base64 = btoa(String.fromCharCode.apply(null, chunk));\n",
              "      yield {\n",
              "        response: {\n",
              "          action: 'append',\n",
              "          file: file.name,\n",
              "          data: base64,\n",
              "        },\n",
              "      };\n",
              "\n",
              "      let percentDone = fileData.byteLength === 0 ?\n",
              "          100 :\n",
              "          Math.round((position / fileData.byteLength) * 100);\n",
              "      percent.textContent = `${percentDone}% done`;\n",
              "\n",
              "    } while (position < fileData.byteLength);\n",
              "  }\n",
              "\n",
              "  // All done.\n",
              "  yield {\n",
              "    response: {\n",
              "      action: 'complete',\n",
              "    }\n",
              "  };\n",
              "}\n",
              "\n",
              "scope.google = scope.google || {};\n",
              "scope.google.colab = scope.google.colab || {};\n",
              "scope.google.colab._files = {\n",
              "  _uploadFiles,\n",
              "  _uploadFilesContinue,\n",
              "};\n",
              "})(self);\n",
              "</script> "
            ]
          },
          "metadata": {}
        },
        {
          "output_type": "stream",
          "name": "stdout",
          "text": [
            "Saving kaggle.json to kaggle.json\n"
          ]
        },
        {
          "output_type": "execute_result",
          "data": {
            "text/plain": [
              "{'kaggle.json': b'{\"username\":\"shashi1305\",\"key\":\"f9ab14b3ce67ce6629dd7837667f74da\"}'}"
            ]
          },
          "metadata": {},
          "execution_count": 39
        }
      ],
      "source": [
        "from google.colab import files\n",
        "\n",
        "# Upload kaggle.json manually\n",
        "files.upload()\n"
      ]
    },
    {
      "cell_type": "code",
      "source": [
        "import os\n",
        "!mkdir -p ~/.kaggle\n",
        "!mv kaggle.json ~/.kaggle/\n",
        "!chmod 600 ~/.kaggle/kaggle.json  # Secure the file\n"
      ],
      "metadata": {
        "id": "mUJB2HBsiJKM"
      },
      "execution_count": 40,
      "outputs": []
    },
    {
      "cell_type": "code",
      "source": [
        "!kaggle datasets list\n"
      ],
      "metadata": {
        "colab": {
          "base_uri": "https://localhost:8080/"
        },
        "id": "LCm7d7xhieFV",
        "outputId": "2c39e136-492b-43e6-fe8d-b6e9b4cdbe0d"
      },
      "execution_count": 41,
      "outputs": [
        {
          "output_type": "stream",
          "name": "stdout",
          "text": [
            "ref                                                               title                                         size  lastUpdated          downloadCount  voteCount  usabilityRating  \n",
            "----------------------------------------------------------------  -------------------------------------------  -----  -------------------  -------------  ---------  ---------------  \n",
            "asinow/car-price-dataset                                          Car Price Dataset                            135KB  2025-01-26 19:53:28          12472        182  1.0              \n",
            "adilshamim8/education-and-career-success                          Education & Career Success.                  118KB  2025-02-03 05:24:20           2969         55  1.0              \n",
            "anandshaw2001/netflix-movies-and-tv-shows                         Netflix Movies and TV Shows                    1MB  2025-01-03 10:33:01          20059        497  1.0              \n",
            "hubertsidorowicz/football-players-stats-2024-2025                 Football Players Stats (2024-2025)             1MB  2025-02-17 12:36:13           1089         26  1.0              \n",
            "marusagar/bank-transaction-fraud-detection                        Bank Transaction Fraud Detection              25MB  2025-02-01 04:04:43            836         26  1.0              \n",
            "mzohaibzeeshan/google-stock-price-data-2020-2025-googl            Google Stock Price Data (2020-2025) | GOOGL   36KB  2025-02-16 06:56:24            675         23  1.0              \n",
            "ruchikakumbhar/zomato-dataset                                     Zomato Dataset                                 2KB  2025-01-21 03:59:39           4574         84  1.0              \n",
            "sachinkumar62/datascience-job-data                                data science job data set                    247KB  2025-02-12 14:15:12            879         29  1.0              \n",
            "asinow/laptop-price-dataset                                       Laptop Price Dataset                         181KB  2025-02-01 04:20:16           3211         66  1.0              \n",
            "sacramentotechnology/sleep-deprivation-and-cognitive-performance  Sleep Deprivation & Cognitive Performance      2KB  2025-01-24 11:03:10           1218         23  1.0              \n",
            "samithsachidanandan/most-popular-1000-youtube-videos              Most popular 1000 Youtube videos              42KB  2025-01-27 18:36:29           3079         59  1.0              \n",
            "mhassansaboor/alibaba-stock-dataset-2025                          Alibaba Stock Dataset 2025                    64KB  2025-02-14 13:38:26            702         29  1.0              \n",
            "dakshnagra/dry-eye-disease                                        Dry Eye Disease                              418KB  2025-02-13 12:20:35            667         26  0.9411765        \n",
            "adilshamim8/sleep-cycle-and-productivity                          Sleep Cycle & Productivity                   155KB  2025-02-07 05:44:59           1618         32  1.0              \n",
            "asinow/schizohealth-dataset                                       Schizophrenia Dataset                        134KB  2025-02-08 21:13:46            981         29  1.0              \n",
            "ruchikakumbhar/calories-burnt-prediction                          Calories Burnt Prediction                    236KB  2025-01-20 06:00:34           1461         24  1.0              \n",
            "andrexibiza/grocery-sales-dataset                                 Grocery Sales Database                       223MB  2025-01-31 19:04:00           2798         57  1.0              \n",
            "mzohaibzeeshan/thyroid-cancer-risk-dataset                        Thyroid Cancer Risk Dataset                    4MB  2025-02-09 14:55:47           1009         26  1.0              \n",
            "dansbecker/melbourne-housing-snapshot                             Melbourne Housing Snapshot                   451KB  2018-06-05 12:52:24         171441       1575  0.7058824        \n",
            "vivekattri/california-wildfire-damage-2014-feb2025                California Wildfire Damage (2014-(feb)2025)    3KB  2025-02-05 10:05:12           1709         36  0.9411765        \n"
          ]
        }
      ]
    },
    {
      "cell_type": "code",
      "source": [
        "!kaggle competitions download -c digit-recognizer\n"
      ],
      "metadata": {
        "colab": {
          "base_uri": "https://localhost:8080/"
        },
        "id": "7LhuDIk4iifb",
        "outputId": "ae4c63ed-df97-4402-f953-5588b60aaec9"
      },
      "execution_count": 42,
      "outputs": [
        {
          "output_type": "stream",
          "name": "stdout",
          "text": [
            "digit-recognizer.zip: Skipping, found more recently modified local copy (use --force to force download)\n"
          ]
        }
      ]
    },
    {
      "cell_type": "code",
      "source": [
        "!unzip digit-recognizer.zip -d digit_recognizer_data\n"
      ],
      "metadata": {
        "colab": {
          "base_uri": "https://localhost:8080/"
        },
        "id": "CEcNa45NilcU",
        "outputId": "190c1343-33e2-4ebe-9069-0c20778ac72c"
      },
      "execution_count": 43,
      "outputs": [
        {
          "output_type": "stream",
          "name": "stdout",
          "text": [
            "Archive:  digit-recognizer.zip\n",
            "replace digit_recognizer_data/sample_submission.csv? [y]es, [n]o, [A]ll, [N]one, [r]ename: "
          ]
        }
      ]
    },
    {
      "cell_type": "code",
      "source": [
        "import numpy as np\n",
        "import pandas as pd\n",
        "from matplotlib import pyplot as plt\n",
        "\n",
        "# Update the file path to where you extracted it\n",
        "data = pd.read_csv(\"digit_recognizer_data/train.csv\")\n",
        "\n",
        "# Check the first few rows to confirm it’s loaded correctly\n",
        "print(data.head())"
      ],
      "metadata": {
        "colab": {
          "base_uri": "https://localhost:8080/"
        },
        "id": "KJcMRSHCipZi",
        "outputId": "7c678a75-e3fe-4bb1-b546-a089258ccdaa"
      },
      "execution_count": 44,
      "outputs": [
        {
          "output_type": "stream",
          "name": "stdout",
          "text": [
            "   label  pixel0  pixel1  pixel2  pixel3  pixel4  pixel5  pixel6  pixel7  \\\n",
            "0      1       0       0       0       0       0       0       0       0   \n",
            "1      0       0       0       0       0       0       0       0       0   \n",
            "2      1       0       0       0       0       0       0       0       0   \n",
            "3      4       0       0       0       0       0       0       0       0   \n",
            "4      0       0       0       0       0       0       0       0       0   \n",
            "\n",
            "   pixel8  ...  pixel774  pixel775  pixel776  pixel777  pixel778  pixel779  \\\n",
            "0       0  ...         0         0         0         0         0         0   \n",
            "1       0  ...         0         0         0         0         0         0   \n",
            "2       0  ...         0         0         0         0         0         0   \n",
            "3       0  ...         0         0         0         0         0         0   \n",
            "4       0  ...         0         0         0         0         0         0   \n",
            "\n",
            "   pixel780  pixel781  pixel782  pixel783  \n",
            "0         0         0         0         0  \n",
            "1         0         0         0         0  \n",
            "2         0         0         0         0  \n",
            "3         0         0         0         0  \n",
            "4         0         0         0         0  \n",
            "\n",
            "[5 rows x 785 columns]\n"
          ]
        }
      ]
    },
    {
      "cell_type": "code",
      "source": [
        "data = np.array(data)\n",
        "m, n = data.shape\n",
        "np.random.shuffle(data) # shuffle before splitting into dev and training sets\n",
        "\n",
        "data_dev = data[0:1000].T\n",
        "Y_dev = data_dev[0]\n",
        "X_dev = data_dev[1:n]\n",
        "X_dev = X_dev / 255.\n",
        "\n",
        "data_train = data[1000:m].T\n",
        "Y_train = data_train[0]\n",
        "X_train = data_train[1:n]\n",
        "X_train = X_train / 255.\n",
        "_,m_train = X_train.shape"
      ],
      "metadata": {
        "id": "puM9qaSzjnOn"
      },
      "execution_count": 45,
      "outputs": []
    },
    {
      "cell_type": "code",
      "source": [
        "Y_train"
      ],
      "metadata": {
        "colab": {
          "base_uri": "https://localhost:8080/"
        },
        "id": "qb3mPjqGscve",
        "outputId": "1ae761d7-95f7-4066-d2c7-acbf6ae1863f"
      },
      "execution_count": 46,
      "outputs": [
        {
          "output_type": "execute_result",
          "data": {
            "text/plain": [
              "array([4, 8, 8, ..., 6, 6, 4])"
            ]
          },
          "metadata": {},
          "execution_count": 46
        }
      ]
    },
    {
      "cell_type": "code",
      "source": [
        "# He Initialization Applied\n",
        "def init_params():\n",
        "    W1 = np.random.randn(10, 784) * np.sqrt(2 / 784)  # He Initialization\n",
        "    b1 = np.zeros((10, 1))  # Bias initialized to zero\n",
        "    W2 = np.random.randn(10, 10) * np.sqrt(2 / 10)  # He Initialization\n",
        "    b2 = np.zeros((10, 1))  # Bias initialized to zero\n",
        "    return W1, b1, W2, b2\n",
        "\n",
        "def ReLU(Z):\n",
        "    return np.maximum(Z, 0)\n",
        "\n",
        "# Softmax Applied\n",
        "def softmax(Z):\n",
        "    expZ = np.exp(Z - np.max(Z, axis=0, keepdims=True))  # Prevents overflow\n",
        "    return expZ / np.sum(expZ, axis=0, keepdims=True)\n",
        "\n",
        "def forward_prop(W1, b1, W2, b2, X):\n",
        "    Z1 = W1.dot(X) + b1\n",
        "    A1 = ReLU(Z1)\n",
        "    Z2 = W2.dot(A1) + b2\n",
        "    A2 = softmax(Z2)\n",
        "    return Z1, A1, Z2, A2\n",
        "\n",
        "def ReLU_deriv(Z):\n",
        "    return Z > 0\n",
        "\n",
        "def one_hot(Y):\n",
        "    one_hot_Y = np.zeros((Y.size, Y.max() + 1))\n",
        "    one_hot_Y[np.arange(Y.size), Y] = 1\n",
        "    one_hot_Y = one_hot_Y.T\n",
        "    return one_hot_Y\n",
        "\n",
        "def backward_prop(Z1, A1, Z2, A2, W1, W2, X, Y):\n",
        "    one_hot_Y = one_hot(Y)\n",
        "    dZ2 = A2 - one_hot_Y\n",
        "    dW2 = 1 / m * dZ2.dot(A1.T)\n",
        "    db2 = 1 / m * np.sum(dZ2)\n",
        "    dZ1 = W2.T.dot(dZ2) * ReLU_deriv(Z1)\n",
        "    dW1 = 1 / m * dZ1.dot(X.T)\n",
        "    db1 = 1 / m * np.sum(dZ1)\n",
        "    return dW1, db1, dW2, db2\n",
        "\n",
        "def update_params(W1, b1, W2, b2, dW1, db1, dW2, db2, alpha):\n",
        "    W1 = W1 - alpha * dW1\n",
        "    b1 = b1 - alpha * db1\n",
        "    W2 = W2 - alpha * dW2\n",
        "    b2 = b2 - alpha * db2\n",
        "    return W1, b1, W2, b2"
      ],
      "metadata": {
        "id": "wQpcWfGpsfK3"
      },
      "execution_count": 47,
      "outputs": []
    },
    {
      "cell_type": "code",
      "source": [
        "def get_predictions(A2):\n",
        "    return np.argmax(A2, 0)\n",
        "\n",
        "def get_accuracy(predictions, Y):\n",
        "    print(predictions, Y)\n",
        "    return np.sum(predictions == Y) / Y.size\n",
        "\n",
        "def gradient_descent(X, Y, alpha, iterations):\n",
        "    W1, b1, W2, b2 = init_params()\n",
        "    for i in range(iterations):\n",
        "        Z1, A1, Z2, A2 = forward_prop(W1, b1, W2, b2, X)\n",
        "        dW1, db1, dW2, db2 = backward_prop(Z1, A1, Z2, A2, W1, W2, X, Y)\n",
        "        W1, b1, W2, b2 = update_params(W1, b1, W2, b2, dW1, db1, dW2, db2, alpha)\n",
        "        if i % 10 == 0:\n",
        "            print(\"Iteration: \", i)\n",
        "            predictions = get_predictions(A2)\n",
        "            print(get_accuracy(predictions, Y))\n",
        "    return W1, b1, W2, b2"
      ],
      "metadata": {
        "id": "xtxPII9Pssuj"
      },
      "execution_count": 48,
      "outputs": []
    },
    {
      "cell_type": "code",
      "source": [
        "W1, b1, W2, b2 = gradient_descent(X_train, Y_train, 0.10, 600)"
      ],
      "metadata": {
        "colab": {
          "base_uri": "https://localhost:8080/"
        },
        "id": "yr31aDcVsvzg",
        "outputId": "8dbcb6f9-1cb3-4d9e-e897-1e4b7284d133"
      },
      "execution_count": 49,
      "outputs": [
        {
          "output_type": "stream",
          "name": "stdout",
          "text": [
            "Iteration:  0\n",
            "[0 5 0 ... 0 7 0] [4 8 8 ... 6 6 4]\n",
            "0.08285365853658537\n",
            "Iteration:  10\n",
            "[4 5 9 ... 0 0 4] [4 8 8 ... 6 6 4]\n",
            "0.2583170731707317\n",
            "Iteration:  20\n",
            "[4 9 9 ... 0 0 4] [4 8 8 ... 6 6 4]\n",
            "0.3082439024390244\n",
            "Iteration:  30\n",
            "[4 9 9 ... 0 6 9] [4 8 8 ... 6 6 4]\n",
            "0.3655609756097561\n",
            "Iteration:  40\n",
            "[4 9 9 ... 0 6 9] [4 8 8 ... 6 6 4]\n",
            "0.41521951219512193\n",
            "Iteration:  50\n",
            "[4 9 9 ... 6 6 9] [4 8 8 ... 6 6 4]\n",
            "0.4998292682926829\n",
            "Iteration:  60\n",
            "[4 8 8 ... 6 6 9] [4 8 8 ... 6 6 4]\n",
            "0.5980975609756097\n",
            "Iteration:  70\n",
            "[4 8 8 ... 6 6 4] [4 8 8 ... 6 6 4]\n",
            "0.7339756097560975\n",
            "Iteration:  80\n",
            "[4 8 8 ... 6 6 4] [4 8 8 ... 6 6 4]\n",
            "0.775829268292683\n",
            "Iteration:  90\n",
            "[4 8 8 ... 6 6 3] [4 8 8 ... 6 6 4]\n",
            "0.8005121951219513\n",
            "Iteration:  100\n",
            "[4 8 8 ... 6 6 3] [4 8 8 ... 6 6 4]\n",
            "0.8165853658536585\n",
            "Iteration:  110\n",
            "[4 8 8 ... 6 6 3] [4 8 8 ... 6 6 4]\n",
            "0.8306829268292683\n",
            "Iteration:  120\n",
            "[4 8 8 ... 6 6 2] [4 8 8 ... 6 6 4]\n",
            "0.8413414634146341\n",
            "Iteration:  130\n",
            "[4 8 8 ... 6 6 2] [4 8 8 ... 6 6 4]\n",
            "0.8498536585365853\n",
            "Iteration:  140\n",
            "[4 8 8 ... 6 6 2] [4 8 8 ... 6 6 4]\n",
            "0.8569268292682927\n",
            "Iteration:  150\n",
            "[4 8 8 ... 6 6 2] [4 8 8 ... 6 6 4]\n",
            "0.8620975609756097\n",
            "Iteration:  160\n",
            "[4 8 8 ... 6 6 2] [4 8 8 ... 6 6 4]\n",
            "0.8660975609756097\n",
            "Iteration:  170\n",
            "[4 8 8 ... 6 6 2] [4 8 8 ... 6 6 4]\n",
            "0.8696341463414634\n",
            "Iteration:  180\n",
            "[4 8 8 ... 6 6 2] [4 8 8 ... 6 6 4]\n",
            "0.8729024390243902\n",
            "Iteration:  190\n",
            "[4 8 8 ... 6 6 2] [4 8 8 ... 6 6 4]\n",
            "0.8756829268292683\n",
            "Iteration:  200\n",
            "[4 8 8 ... 6 6 2] [4 8 8 ... 6 6 4]\n",
            "0.8781951219512195\n",
            "Iteration:  210\n",
            "[4 8 8 ... 6 6 2] [4 8 8 ... 6 6 4]\n",
            "0.880609756097561\n",
            "Iteration:  220\n",
            "[4 8 8 ... 6 6 2] [4 8 8 ... 6 6 4]\n",
            "0.8820975609756098\n",
            "Iteration:  230\n",
            "[4 8 8 ... 6 6 2] [4 8 8 ... 6 6 4]\n",
            "0.8839756097560976\n",
            "Iteration:  240\n",
            "[4 8 8 ... 6 6 2] [4 8 8 ... 6 6 4]\n",
            "0.8857317073170732\n",
            "Iteration:  250\n",
            "[4 8 8 ... 6 6 2] [4 8 8 ... 6 6 4]\n",
            "0.8879268292682927\n",
            "Iteration:  260\n",
            "[4 8 8 ... 6 6 2] [4 8 8 ... 6 6 4]\n",
            "0.8892926829268293\n",
            "Iteration:  270\n",
            "[4 8 8 ... 6 6 2] [4 8 8 ... 6 6 4]\n",
            "0.8904146341463415\n",
            "Iteration:  280\n",
            "[4 8 8 ... 6 6 2] [4 8 8 ... 6 6 4]\n",
            "0.8917317073170732\n",
            "Iteration:  290\n",
            "[4 8 8 ... 6 6 2] [4 8 8 ... 6 6 4]\n",
            "0.8929024390243903\n",
            "Iteration:  300\n",
            "[4 8 8 ... 6 6 2] [4 8 8 ... 6 6 4]\n",
            "0.8941219512195122\n",
            "Iteration:  310\n",
            "[4 8 8 ... 6 6 2] [4 8 8 ... 6 6 4]\n",
            "0.8951463414634147\n",
            "Iteration:  320\n",
            "[4 8 8 ... 6 6 2] [4 8 8 ... 6 6 4]\n",
            "0.8957073170731708\n",
            "Iteration:  330\n",
            "[4 8 8 ... 6 6 2] [4 8 8 ... 6 6 4]\n",
            "0.8966341463414634\n",
            "Iteration:  340\n",
            "[4 8 8 ... 6 6 2] [4 8 8 ... 6 6 4]\n",
            "0.8975853658536586\n",
            "Iteration:  350\n",
            "[4 8 8 ... 6 6 2] [4 8 8 ... 6 6 4]\n",
            "0.8984390243902439\n",
            "Iteration:  360\n",
            "[4 8 8 ... 6 6 2] [4 8 8 ... 6 6 4]\n",
            "0.8992926829268293\n",
            "Iteration:  370\n",
            "[4 8 8 ... 6 6 2] [4 8 8 ... 6 6 4]\n",
            "0.9002926829268293\n",
            "Iteration:  380\n",
            "[4 8 8 ... 6 6 2] [4 8 8 ... 6 6 4]\n",
            "0.9006829268292683\n",
            "Iteration:  390\n",
            "[4 8 8 ... 6 6 2] [4 8 8 ... 6 6 4]\n",
            "0.901390243902439\n",
            "Iteration:  400\n",
            "[4 8 8 ... 6 6 2] [4 8 8 ... 6 6 4]\n",
            "0.9021707317073171\n",
            "Iteration:  410\n",
            "[4 8 8 ... 6 6 2] [4 8 8 ... 6 6 4]\n",
            "0.9030243902439025\n",
            "Iteration:  420\n",
            "[4 8 8 ... 6 6 2] [4 8 8 ... 6 6 4]\n",
            "0.9035609756097561\n",
            "Iteration:  430\n",
            "[4 8 8 ... 6 6 2] [4 8 8 ... 6 6 4]\n",
            "0.9044146341463415\n",
            "Iteration:  440\n",
            "[4 8 8 ... 6 6 2] [4 8 8 ... 6 6 4]\n",
            "0.9047560975609756\n",
            "Iteration:  450\n",
            "[4 8 8 ... 6 6 2] [4 8 8 ... 6 6 4]\n",
            "0.905390243902439\n",
            "Iteration:  460\n",
            "[4 8 8 ... 6 6 2] [4 8 8 ... 6 6 4]\n",
            "0.9058536585365854\n",
            "Iteration:  470\n",
            "[4 8 8 ... 6 6 2] [4 8 8 ... 6 6 4]\n",
            "0.9066341463414634\n",
            "Iteration:  480\n",
            "[4 8 8 ... 6 6 2] [4 8 8 ... 6 6 4]\n",
            "0.9071707317073171\n",
            "Iteration:  490\n",
            "[4 8 8 ... 6 6 2] [4 8 8 ... 6 6 4]\n",
            "0.9076341463414634\n",
            "Iteration:  500\n",
            "[4 8 8 ... 6 6 2] [4 8 8 ... 6 6 4]\n",
            "0.9081463414634147\n",
            "Iteration:  510\n",
            "[4 8 8 ... 6 6 2] [4 8 8 ... 6 6 4]\n",
            "0.9084390243902439\n",
            "Iteration:  520\n",
            "[4 8 8 ... 6 6 2] [4 8 8 ... 6 6 4]\n",
            "0.9087560975609756\n",
            "Iteration:  530\n",
            "[4 8 8 ... 6 6 2] [4 8 8 ... 6 6 4]\n",
            "0.9092682926829269\n",
            "Iteration:  540\n",
            "[4 8 8 ... 6 6 2] [4 8 8 ... 6 6 4]\n",
            "0.9098536585365854\n",
            "Iteration:  550\n",
            "[4 8 8 ... 6 6 2] [4 8 8 ... 6 6 4]\n",
            "0.9102682926829269\n",
            "Iteration:  560\n",
            "[4 8 8 ... 6 6 2] [4 8 8 ... 6 6 4]\n",
            "0.9106341463414634\n",
            "Iteration:  570\n",
            "[4 8 8 ... 6 6 2] [4 8 8 ... 6 6 4]\n",
            "0.9109512195121952\n",
            "Iteration:  580\n",
            "[4 8 8 ... 6 6 2] [4 8 8 ... 6 6 4]\n",
            "0.9111463414634147\n",
            "Iteration:  590\n",
            "[4 8 8 ... 6 6 2] [4 8 8 ... 6 6 4]\n",
            "0.9112439024390244\n"
          ]
        }
      ]
    },
    {
      "cell_type": "code",
      "source": [
        "def make_predictions(X, W1, b1, W2, b2):\n",
        "    _, _, _, A2 = forward_prop(W1, b1, W2, b2, X)\n",
        "    predictions = get_predictions(A2)\n",
        "    return predictions\n",
        "\n",
        "def test_prediction(index, W1, b1, W2, b2):\n",
        "    current_image = X_train[:, index, None]\n",
        "    prediction = make_predictions(X_train[:, index, None], W1, b1, W2, b2)\n",
        "    label = Y_train[index]\n",
        "    print(\"Prediction: \", prediction)\n",
        "    print(\"Label: \", label)\n",
        "\n",
        "    current_image = current_image.reshape((28, 28)) * 255\n",
        "    plt.gray()\n",
        "    plt.imshow(current_image, interpolation='nearest')\n",
        "    plt.show()"
      ],
      "metadata": {
        "id": "ekAD2Sh1td8_"
      },
      "execution_count": 50,
      "outputs": []
    },
    {
      "cell_type": "code",
      "source": [
        "test_prediction(0, W1, b1, W2, b2)\n",
        "test_prediction(1, W1, b1, W2, b2)\n",
        "test_prediction(2, W1, b1, W2, b2)\n",
        "test_prediction(3, W1, b1, W2, b2)"
      ],
      "metadata": {
        "colab": {
          "base_uri": "https://localhost:8080/",
          "height": 1000
        },
        "id": "BFkptg8wte6m",
        "outputId": "be0060f0-8dca-40d0-f45e-865b5258dd7e"
      },
      "execution_count": 51,
      "outputs": [
        {
          "output_type": "stream",
          "name": "stdout",
          "text": [
            "Prediction:  [4]\n",
            "Label:  4\n"
          ]
        },
        {
          "output_type": "display_data",
          "data": {
            "text/plain": [
              "<Figure size 640x480 with 1 Axes>"
            ],
            "image/png": "[encoded data removed]"
          },
          "metadata": {}
        },
        {
          "output_type": "stream",
          "name": "stdout",
          "text": [
            "Prediction:  [8]\n",
            "Label:  8\n"
          ]
        },
        {
          "output_type": "display_data",
          "data": {
            "text/plain": [
              "<Figure size 640x480 with 1 Axes>"
            ],
            "image/png": "[encoded data removed]"
          },
          "metadata": {}
        },
        {
          "output_type": "stream",
          "name": "stdout",
          "text": [
            "Prediction:  [8]\n",
            "Label:  8\n"
          ]
        },
        {
          "output_type": "display_data",
          "data": {
            "text/plain": [
              "<Figure size 640x480 with 1 Axes>"
            ],
            "image/png": "[encoded data removed]"
          },
          "metadata": {}
        },
        {
          "output_type": "stream",
          "name": "stdout",
          "text": [
            "Prediction:  [9]\n",
            "Label:  9\n"
          ]
        },
        {
          "output_type": "display_data",
          "data": {
            "text/plain": [
              "<Figure size 640x480 with 1 Axes>"
            ],
            "image/png": "[encoded data removed]"
          },
          "metadata": {}
        }
      ]
    },
    {
      "cell_type": "code",
      "source": [
        "dev_predictions = make_predictions(X_dev, W1, b1, W2, b2)\n",
        "get_accuracy(dev_predictions, Y_dev)"
      ],
      "metadata": {
        "colab": {
          "base_uri": "https://localhost:8080/"
        },
        "id": "5PHHixG8tkfC",
        "outputId": "cb1b8b58-3bb3-4133-84a1-8bbb3b270322"
      },
      "execution_count": 52,
      "outputs": [
        {
          "output_type": "stream",
          "name": "stdout",
          "text": [
            "[3 6 3 2 1 2 8 8 5 3 3 9 1 3 3 8 7 7 3 2 7 0 3 7 8 3 2 5 8 5 1 6 9 9 5 1 4\n",
            " 5 1 2 3 8 3 7 9 3 6 0 1 9 9 0 3 5 1 1 6 0 5 0 7 4 4 8 5 0 6 3 6 2 0 0 4 5\n",
            " 7 5 7 1 3 5 5 3 1 8 8 5 2 5 5 4 0 7 3 5 0 4 0 9 0 0 6 1 8 6 5 2 8 7 2 9 7\n",
            " 0 2 0 1 1 7 3 5 9 9 1 2 4 0 4 0 3 0 8 3 1 8 7 1 1 5 7 6 8 0 0 8 1 2 8 4 4\n",
            " 8 6 5 3 3 0 7 9 5 9 8 9 3 7 3 5 3 7 0 4 2 9 2 5 7 0 4 8 7 2 5 9 9 5 2 1 4\n",
            " 7 3 1 0 2 4 7 8 1 4 1 3 4 5 0 3 9 1 5 2 3 9 6 0 1 7 9 9 0 2 0 2 2 1 4 9 8\n",
            " 8 8 7 0 2 5 1 6 8 8 6 1 7 6 4 9 8 8 7 8 1 3 7 7 0 5 9 0 3 5 7 7 8 0 2 1 4\n",
            " 8 3 2 7 4 1 7 1 3 0 5 5 6 0 3 5 7 5 9 1 2 3 7 8 3 3 9 1 4 7 0 4 4 4 0 5 4\n",
            " 9 3 4 7 6 0 2 8 9 9 5 3 2 7 6 7 7 5 8 3 6 7 5 2 1 9 1 3 9 1 5 3 0 0 5 4 0\n",
            " 2 3 1 4 8 4 1 1 1 0 3 3 7 1 5 5 1 7 9 1 3 4 5 6 1 1 7 7 2 5 0 1 3 2 2 3 5\n",
            " 0 4 2 8 8 4 1 6 8 0 6 1 9 4 7 6 4 7 5 1 8 1 3 0 7 2 4 0 2 6 8 1 6 1 1 4 9\n",
            " 8 8 5 2 5 3 4 9 3 3 0 0 3 5 5 1 1 8 0 3 9 1 5 4 1 6 2 2 8 1 0 6 4 7 3 0 0\n",
            " 6 7 5 1 1 8 1 8 0 4 1 6 2 3 2 5 3 8 9 6 0 8 6 7 7 5 7 4 6 6 1 1 4 7 8 2 5\n",
            " 9 4 3 2 3 4 2 1 9 5 7 8 1 3 0 6 7 2 1 6 9 9 9 5 4 9 9 8 4 6 8 6 6 4 4 4 3\n",
            " 8 2 7 5 4 9 7 3 6 7 4 4 2 0 5 6 7 5 9 0 2 3 2 3 2 9 7 0 7 0 0 4 8 7 0 9 3\n",
            " 0 3 3 7 4 8 9 1 1 8 6 1 8 4 0 7 2 7 5 5 1 1 3 3 7 8 4 0 1 2 0 4 0 5 1 0 8\n",
            " 1 4 0 0 9 3 9 1 4 7 2 6 3 2 0 0 6 8 3 1 4 6 0 8 4 6 1 4 8 3 5 8 4 9 8 8 6\n",
            " 8 2 8 7 1 8 4 5 6 4 7 0 0 1 3 9 7 6 7 7 7 0 8 0 1 4 4 1 8 7 0 1 7 3 8 2 2\n",
            " 3 7 2 4 4 2 4 6 7 7 4 6 8 9 0 1 3 9 8 9 1 4 3 8 9 4 6 5 3 2 7 2 2 3 8 9 6\n",
            " 3 0 3 2 9 1 7 3 8 6 3 1 0 4 0 2 0 4 3 6 7 4 7 2 7 3 9 6 9 1 4 8 4 5 9 7 4\n",
            " 3 1 6 6 0 5 3 3 6 2 2 7 7 7 3 0 6 4 3 4 2 8 2 4 1 9 4 5 0 6 2 0 8 3 1 4 3\n",
            " 1 4 7 6 3 9 9 0 1 6 4 1 8 6 8 4 6 3 2 6 1 9 5 8 3 3 7 9 9 4 2 6 2 1 4 3 9\n",
            " 5 8 6 4 6 0 2 7 9 9 7 0 0 6 3 4 7 1 3 9 0 5 0 7 7 7 5 2 0 5 5 8 6 7 7 1 2\n",
            " 7 3 4 7 2 9 4 1 8 6 0 6 2 1 4 4 1 0 9 0 9 6 6 5 9 1 0 9 1 6 4 4 3 1 1 8 3\n",
            " 5 6 5 6 0 1 0 6 0 5 0 2 3 7 5 4 3 2 4 5 8 4 0 6 3 1 2 4 6 6 0 9 8 5 4 9 6\n",
            " 9 6 7 4 2 1 4 3 0 9 5 0 6 2 8 6 9 8 1 5 2 9 7 1 3 8 7 8 5 3 3 6 3 4 6 4 3\n",
            " 2 8 8 4 7 8 3 7 6 2 8 6 2 0 8 1 3 6 1 2 8 6 6 7 7 5 3 9 9 8 5 0 7 5 0 2 1\n",
            " 1] [3 6 3 2 1 2 8 8 5 3 3 9 1 9 3 8 7 7 3 2 7 0 3 7 8 3 2 5 8 5 1 6 9 9 5 1 4\n",
            " 5 1 2 8 8 3 7 4 3 6 5 1 9 9 0 3 5 7 1 6 0 5 0 7 4 6 2 5 0 6 3 6 4 0 9 4 5\n",
            " 7 5 7 1 3 9 5 3 1 8 8 5 2 5 5 4 0 7 3 5 0 4 0 9 0 0 6 1 8 6 5 2 8 7 2 9 7\n",
            " 0 5 0 3 1 7 3 5 9 9 1 2 4 0 4 0 3 0 8 3 1 8 7 8 8 5 7 6 8 0 6 8 1 2 8 4 4\n",
            " 8 6 5 5 3 0 7 9 5 2 8 9 3 7 3 5 3 7 0 4 2 9 2 5 7 0 4 8 7 2 5 4 9 5 2 7 4\n",
            " 7 3 5 0 2 9 7 8 1 4 1 3 4 5 0 3 9 1 5 2 3 9 6 0 1 7 9 9 0 2 0 2 2 1 4 9 8\n",
            " 8 8 7 0 2 5 1 6 2 8 6 1 7 6 4 9 2 8 3 8 1 3 7 7 0 5 9 0 3 5 7 7 8 0 2 1 4\n",
            " 1 3 2 7 2 1 7 1 3 0 5 5 6 0 3 5 7 5 9 1 2 3 7 8 3 8 9 1 4 7 0 4 4 4 0 5 4\n",
            " 9 3 4 7 6 0 2 8 9 4 5 8 2 7 6 7 7 3 8 3 6 7 5 2 1 9 1 3 9 1 5 3 0 0 5 4 0\n",
            " 2 3 1 4 8 4 1 1 1 0 3 5 7 1 5 5 1 7 9 1 3 4 5 6 1 1 7 9 2 5 8 1 3 2 2 3 5\n",
            " 0 0 2 8 8 4 1 6 8 0 6 1 9 4 7 5 9 7 3 1 8 1 3 0 7 2 4 0 2 6 8 1 6 1 1 4 9\n",
            " 8 8 5 2 5 3 4 9 3 3 0 0 3 5 5 1 1 8 0 3 9 1 5 4 1 6 2 2 8 1 0 6 4 7 3 0 0\n",
            " 6 7 5 8 1 9 1 8 0 4 1 6 7 3 2 5 3 0 9 6 0 4 6 7 7 5 7 4 6 6 1 1 4 7 8 2 5\n",
            " 9 4 3 2 3 4 2 1 9 5 7 8 1 3 0 6 7 2 1 6 9 9 9 5 4 9 9 8 4 2 8 6 6 7 4 4 3\n",
            " 8 2 7 5 4 9 7 3 0 7 4 4 2 0 2 6 7 5 2 3 2 3 2 3 2 9 7 0 7 0 6 5 8 7 0 9 3\n",
            " 0 3 3 7 4 8 9 1 1 8 6 1 8 4 7 7 2 7 5 5 1 1 3 3 9 8 4 0 1 2 0 4 0 5 1 0 8\n",
            " 1 4 0 0 9 3 8 1 4 7 6 6 3 2 0 0 6 8 3 1 4 6 0 8 4 6 1 4 8 3 5 8 4 9 8 8 6\n",
            " 5 2 8 7 1 8 4 5 6 4 7 0 0 1 5 9 7 6 3 7 7 1 8 0 1 4 4 1 8 7 0 1 7 3 8 2 2\n",
            " 3 7 2 4 4 2 4 4 7 7 4 6 8 4 0 1 3 9 8 9 1 4 3 8 9 9 6 5 3 2 7 2 2 3 8 9 6\n",
            " 3 0 3 2 9 1 7 3 8 8 3 1 0 4 0 2 0 4 3 5 7 4 7 2 7 3 9 6 5 1 4 8 4 5 9 7 4\n",
            " 3 1 6 6 0 5 3 3 6 2 2 7 7 7 3 0 6 7 3 4 2 8 2 4 1 9 4 5 0 6 2 0 8 3 1 4 3\n",
            " 1 4 7 6 3 9 9 0 1 6 4 3 8 6 8 4 6 3 2 6 1 9 5 8 3 8 7 9 9 4 2 6 2 1 4 3 9\n",
            " 5 8 6 8 6 0 7 7 9 9 7 0 0 6 3 4 7 1 3 9 0 5 0 7 7 7 5 5 0 5 5 8 6 7 9 1 2\n",
            " 7 3 4 7 2 9 4 1 8 6 0 6 2 1 4 4 1 9 9 0 9 6 6 3 9 1 0 9 1 6 4 4 3 1 1 8 3\n",
            " 5 6 5 5 0 1 0 6 0 5 0 2 3 7 5 4 3 2 4 5 8 4 0 6 3 1 2 4 6 6 0 9 8 5 4 9 6\n",
            " 9 6 7 4 5 1 4 3 0 9 5 9 6 2 8 6 4 8 1 5 2 9 7 1 3 8 7 8 5 3 3 3 3 4 6 4 3\n",
            " 2 8 8 7 7 8 2 7 6 7 3 6 2 0 8 1 3 6 1 2 8 6 6 7 7 5 3 9 9 8 5 0 7 5 0 2 8\n",
            " 1]\n"
          ]
        },
        {
          "output_type": "execute_result",
          "data": {
            "text/plain": [
              "0.917"
            ]
          },
          "metadata": {},
          "execution_count": 52
        }
      ]
    },
    {
      "cell_type": "markdown",
      "source": [
        "# Neural Network using Tensorflow"
      ],
      "metadata": {
        "id": "oZg2SNM_D7KM"
      }
    },
    {
      "cell_type": "code",
      "source": [
        "import tensorflow as tf\n",
        "from tensorflow import keras\n",
        "import numpy as np\n",
        "import pandas as pd\n",
        "import matplotlib.pyplot as plt"
      ],
      "metadata": {
        "id": "1RhS30AiD_F2"
      },
      "execution_count": 53,
      "outputs": []
    },
    {
      "cell_type": "code",
      "source": [
        "# Load dataset\n",
        "data = pd.read_csv(\"digit_recognizer_data/train.csv\")\n",
        "data = np.array(data)\n",
        "np.random.shuffle(data)  # Shuffle before splitting"
      ],
      "metadata": {
        "id": "IaSMTV2lEClL"
      },
      "execution_count": 54,
      "outputs": []
    },
    {
      "cell_type": "code",
      "source": [
        "# Split dataset into training and development sets\n",
        "X_train = data[1000:, 1:] / 255.0  # Normalize pixel values\n",
        "Y_train = data[1000:, 0]\n",
        "\n",
        "X_dev = data[:1000, 1:] / 255.0\n",
        "Y_dev = data[:1000, 0]"
      ],
      "metadata": {
        "id": "SD8ekdRPEGid"
      },
      "execution_count": 55,
      "outputs": []
    },
    {
      "cell_type": "code",
      "source": [
        "# Define the model\n",
        "model = keras.Sequential([\n",
        "    keras.layers.Dense(64, activation='relu', input_shape=(784,)),  # Hidden Layer 1\n",
        "    keras.layers.Dense(10, activation='softmax')  # Output Layer (10 classes)\n",
        "])"
      ],
      "metadata": {
        "colab": {
          "base_uri": "https://localhost:8080/"
        },
        "id": "ewEvh_gdEIJn",
        "outputId": "bd0f4509-3b50-4eab-d1d7-e086e359720b"
      },
      "execution_count": 56,
      "outputs": [
        {
          "output_type": "stream",
          "name": "stderr",
          "text": [
            "/usr/local/lib/python3.11/dist-packages/keras/src/layers/core/dense.py:87: UserWarning: Do not pass an `input_shape`/`input_dim` argument to a layer. When using Sequential models, prefer using an `Input(shape)` object as the first layer in the model instead.\n",
            "  super().__init__(activity_regularizer=activity_regularizer, **kwargs)\n"
          ]
        }
      ]
    },
    {
      "cell_type": "code",
      "source": [
        "# Compile the model\n",
        "model.compile(\n",
        "    optimizer=keras.optimizers.Adam(learning_rate=0.01),  # Adaptive gradient optimizer\n",
        "    loss='sparse_categorical_crossentropy',  # Loss function for multi-class classification\n",
        "    metrics=['accuracy']\n",
        ")"
      ],
      "metadata": {
        "id": "z07OXQvBEK-A"
      },
      "execution_count": 57,
      "outputs": []
    },
    {
      "cell_type": "code",
      "source": [
        "# Train the model\n",
        "history = model.fit(X_train, Y_train, epochs=25, batch_size=32, validation_data=(X_dev, Y_dev))\n"
      ],
      "metadata": {
        "colab": {
          "base_uri": "https://localhost:8080/"
        },
        "id": "XknvaBwyEMaN",
        "outputId": "5ca1ae31-eab6-4520-a783-5d81007392d5"
      },
      "execution_count": 58,
      "outputs": [
        {
          "output_type": "stream",
          "name": "stdout",
          "text": [
            "Epoch 1/25\n",
            "\u001b[1m1282/1282\u001b[0m \u001b[32m━━━━━━━━━━━━━━━━━━━━\u001b[0m\u001b[37m\u001b[0m \u001b[1m6s\u001b[0m 3ms/step - accuracy: 0.8828 - loss: 0.3812 - val_accuracy: 0.9540 - val_loss: 0.1328\n",
            "Epoch 2/25\n",
            "\u001b[1m1282/1282\u001b[0m \u001b[32m━━━━━━━━━━━━━━━━━━━━\u001b[0m\u001b[37m\u001b[0m \u001b[1m4s\u001b[0m 3ms/step - accuracy: 0.9526 - loss: 0.1561 - val_accuracy: 0.9620 - val_loss: 0.1223\n",
            "Epoch 3/25\n",
            "\u001b[1m1282/1282\u001b[0m \u001b[32m━━━━━━━━━━━━━━━━━━━━\u001b[0m\u001b[37m\u001b[0m \u001b[1m7s\u001b[0m 5ms/step - accuracy: 0.9634 - loss: 0.1277 - val_accuracy: 0.9550 - val_loss: 0.1720\n",
            "Epoch 4/25\n",
            "\u001b[1m1282/1282\u001b[0m \u001b[32m━━━━━━━━━━━━━━━━━━━━\u001b[0m\u001b[37m\u001b[0m \u001b[1m8s\u001b[0m 4ms/step - accuracy: 0.9661 - loss: 0.1207 - val_accuracy: 0.9620 - val_loss: 0.1602\n",
            "Epoch 5/25\n",
            "\u001b[1m1282/1282\u001b[0m \u001b[32m━━━━━━━━━━━━━━━━━━━━\u001b[0m\u001b[37m\u001b[0m \u001b[1m5s\u001b[0m 4ms/step - accuracy: 0.9700 - loss: 0.1028 - val_accuracy: 0.9640 - val_loss: 0.1588\n",
            "Epoch 6/25\n",
            "\u001b[1m1282/1282\u001b[0m \u001b[32m━━━━━━━━━━━━━━━━━━━━\u001b[0m\u001b[37m\u001b[0m \u001b[1m4s\u001b[0m 3ms/step - accuracy: 0.9698 - loss: 0.1064 - val_accuracy: 0.9590 - val_loss: 0.1685\n",
            "Epoch 7/25\n",
            "\u001b[1m1282/1282\u001b[0m \u001b[32m━━━━━━━━━━━━━━━━━━━━\u001b[0m\u001b[37m\u001b[0m \u001b[1m4s\u001b[0m 3ms/step - accuracy: 0.9733 - loss: 0.0965 - val_accuracy: 0.9630 - val_loss: 0.1483\n",
            "Epoch 8/25\n",
            "\u001b[1m1282/1282\u001b[0m \u001b[32m━━━━━━━━━━━━━━━━━━━━\u001b[0m\u001b[37m\u001b[0m \u001b[1m4s\u001b[0m 3ms/step - accuracy: 0.9743 - loss: 0.0972 - val_accuracy: 0.9650 - val_loss: 0.1884\n",
            "Epoch 9/25\n",
            "\u001b[1m1282/1282\u001b[0m \u001b[32m━━━━━━━━━━━━━━━━━━━━\u001b[0m\u001b[37m\u001b[0m \u001b[1m4s\u001b[0m 3ms/step - accuracy: 0.9743 - loss: 0.0931 - val_accuracy: 0.9650 - val_loss: 0.1610\n",
            "Epoch 10/25\n",
            "\u001b[1m1282/1282\u001b[0m \u001b[32m━━━━━━━━━━━━━━━━━━━━\u001b[0m\u001b[37m\u001b[0m \u001b[1m4s\u001b[0m 3ms/step - accuracy: 0.9761 - loss: 0.0848 - val_accuracy: 0.9580 - val_loss: 0.2282\n",
            "Epoch 11/25\n",
            "\u001b[1m1282/1282\u001b[0m \u001b[32m━━━━━━━━━━━━━━━━━━━━\u001b[0m\u001b[37m\u001b[0m \u001b[1m4s\u001b[0m 3ms/step - accuracy: 0.9787 - loss: 0.0780 - val_accuracy: 0.9640 - val_loss: 0.1595\n",
            "Epoch 12/25\n",
            "\u001b[1m1282/1282\u001b[0m \u001b[32m━━━━━━━━━━━━━━━━━━━━\u001b[0m\u001b[37m\u001b[0m \u001b[1m4s\u001b[0m 3ms/step - accuracy: 0.9802 - loss: 0.0804 - val_accuracy: 0.9630 - val_loss: 0.1801\n",
            "Epoch 13/25\n",
            "\u001b[1m1282/1282\u001b[0m \u001b[32m━━━━━━━━━━━━━━━━━━━━\u001b[0m\u001b[37m\u001b[0m \u001b[1m7s\u001b[0m 4ms/step - accuracy: 0.9791 - loss: 0.0747 - val_accuracy: 0.9680 - val_loss: 0.1847\n",
            "Epoch 14/25\n",
            "\u001b[1m1282/1282\u001b[0m \u001b[32m━━━━━━━━━━━━━━━━━━━━\u001b[0m\u001b[37m\u001b[0m \u001b[1m9s\u001b[0m 3ms/step - accuracy: 0.9813 - loss: 0.0730 - val_accuracy: 0.9620 - val_loss: 0.2253\n",
            "Epoch 15/25\n",
            "\u001b[1m1282/1282\u001b[0m \u001b[32m━━━━━━━━━━━━━━━━━━━━\u001b[0m\u001b[37m\u001b[0m \u001b[1m5s\u001b[0m 4ms/step - accuracy: 0.9806 - loss: 0.0758 - val_accuracy: 0.9510 - val_loss: 0.3371\n",
            "Epoch 16/25\n",
            "\u001b[1m1282/1282\u001b[0m \u001b[32m━━━━━━━━━━━━━━━━━━━━\u001b[0m\u001b[37m\u001b[0m \u001b[1m4s\u001b[0m 3ms/step - accuracy: 0.9816 - loss: 0.0802 - val_accuracy: 0.9710 - val_loss: 0.2070\n",
            "Epoch 17/25\n",
            "\u001b[1m1282/1282\u001b[0m \u001b[32m━━━━━━━━━━━━━━━━━━━━\u001b[0m\u001b[37m\u001b[0m \u001b[1m4s\u001b[0m 3ms/step - accuracy: 0.9827 - loss: 0.0649 - val_accuracy: 0.9580 - val_loss: 0.2966\n",
            "Epoch 18/25\n",
            "\u001b[1m1282/1282\u001b[0m \u001b[32m━━━━━━━━━━━━━━━━━━━━\u001b[0m\u001b[37m\u001b[0m \u001b[1m6s\u001b[0m 4ms/step - accuracy: 0.9845 - loss: 0.0694 - val_accuracy: 0.9640 - val_loss: 0.2103\n",
            "Epoch 19/25\n",
            "\u001b[1m1282/1282\u001b[0m \u001b[32m━━━━━━━━━━━━━━━━━━━━\u001b[0m\u001b[37m\u001b[0m \u001b[1m4s\u001b[0m 3ms/step - accuracy: 0.9831 - loss: 0.0777 - val_accuracy: 0.9660 - val_loss: 0.2670\n",
            "Epoch 20/25\n",
            "\u001b[1m1282/1282\u001b[0m \u001b[32m━━━━━━━━━━━━━━━━━━━━\u001b[0m\u001b[37m\u001b[0m \u001b[1m6s\u001b[0m 4ms/step - accuracy: 0.9865 - loss: 0.0557 - val_accuracy: 0.9610 - val_loss: 0.3068\n",
            "Epoch 21/25\n",
            "\u001b[1m1282/1282\u001b[0m \u001b[32m━━━━━━━━━━━━━━━━━━━━\u001b[0m\u001b[37m\u001b[0m \u001b[1m9s\u001b[0m 3ms/step - accuracy: 0.9844 - loss: 0.0691 - val_accuracy: 0.9510 - val_loss: 0.4005\n",
            "Epoch 22/25\n",
            "\u001b[1m1282/1282\u001b[0m \u001b[32m━━━━━━━━━━━━━━━━━━━━\u001b[0m\u001b[37m\u001b[0m \u001b[1m6s\u001b[0m 4ms/step - accuracy: 0.9849 - loss: 0.0632 - val_accuracy: 0.9660 - val_loss: 0.2813\n",
            "Epoch 23/25\n",
            "\u001b[1m1282/1282\u001b[0m \u001b[32m━━━━━━━━━━━━━━━━━━━━\u001b[0m\u001b[37m\u001b[0m \u001b[1m9s\u001b[0m 4ms/step - accuracy: 0.9861 - loss: 0.0590 - val_accuracy: 0.9670 - val_loss: 0.2577\n",
            "Epoch 24/25\n",
            "\u001b[1m1282/1282\u001b[0m \u001b[32m━━━━━━━━━━━━━━━━━━━━\u001b[0m\u001b[37m\u001b[0m \u001b[1m5s\u001b[0m 4ms/step - accuracy: 0.9876 - loss: 0.0577 - val_accuracy: 0.9570 - val_loss: 0.2714\n",
            "Epoch 25/25\n",
            "\u001b[1m1282/1282\u001b[0m \u001b[32m━━━━━━━━━━━━━━━━━━━━\u001b[0m\u001b[37m\u001b[0m \u001b[1m4s\u001b[0m 3ms/step - accuracy: 0.9868 - loss: 0.0568 - val_accuracy: 0.9610 - val_loss: 0.3452\n"
          ]
        }
      ]
    },
    {
      "cell_type": "code",
      "source": [
        "# Evaluate on the development set\n",
        "dev_loss, dev_accuracy = model.evaluate(X_dev, Y_dev)\n",
        "print(f\"Development Set Accuracy: {dev_accuracy:.4f}\")"
      ],
      "metadata": {
        "colab": {
          "base_uri": "https://localhost:8080/"
        },
        "id": "XEqyqRmdEgDd",
        "outputId": "6e5aef3a-8898-476e-8a1d-f1d4e7459a21"
      },
      "execution_count": 59,
      "outputs": [
        {
          "output_type": "stream",
          "name": "stdout",
          "text": [
            "\u001b[1m32/32\u001b[0m \u001b[32m━━━━━━━━━━━━━━━━━━━━\u001b[0m\u001b[37m\u001b[0m \u001b[1m0s\u001b[0m 5ms/step - accuracy: 0.9628 - loss: 0.3211\n",
            "Development Set Accuracy: 0.9610\n"
          ]
        }
      ]
    },
    {
      "cell_type": "code",
      "source": [
        "# Make predictions\n",
        "def test_prediction(index):\n",
        "    prediction = np.argmax(model.predict(X_train[index:index+1]), axis=1)\n",
        "    label = Y_train[index]\n",
        "\n",
        "    print(f\"Prediction: {prediction[0]}, Label: {label}\")\n",
        "    plt.imshow(X_train[index].reshape(28, 28), cmap=\"gray\")\n",
        "    plt.show()"
      ],
      "metadata": {
        "id": "RCW_OoMOEigv"
      },
      "execution_count": 60,
      "outputs": []
    },
    {
      "cell_type": "code",
      "source": [
        "# Test some predictions\n",
        "test_prediction(0)\n",
        "test_prediction(1)\n",
        "test_prediction(2)\n",
        "test_prediction(3)"
      ],
      "metadata": {
        "colab": {
          "base_uri": "https://localhost:8080/",
          "height": 1000
        },
        "id": "-y4Q6sCOEjut",
        "outputId": "8f250c71-e503-4a9d-8c8b-37dd09b1e8b9"
      },
      "execution_count": 61,
      "outputs": [
        {
          "output_type": "stream",
          "name": "stdout",
          "text": [
            "\u001b[1m1/1\u001b[0m \u001b[32m━━━━━━━━━━━━━━━━━━━━\u001b[0m\u001b[37m\u001b[0m \u001b[1m0s\u001b[0m 75ms/step\n",
            "Prediction: 2, Label: 2\n"
          ]
        },
        {
          "output_type": "display_data",
          "data": {
            "text/plain": [
              "<Figure size 640x480 with 1 Axes>"
            ],
            "image/png": "[encoded data removed]"
          },
          "metadata": {}
        },
        {
          "output_type": "stream",
          "name": "stdout",
          "text": [
            "\u001b[1m1/1\u001b[0m \u001b[32m━━━━━━━━━━━━━━━━━━━━\u001b[0m\u001b[37m\u001b[0m \u001b[1m0s\u001b[0m 47ms/step\n",
            "Prediction: 3, Label: 3\n"
          ]
        },
        {
          "output_type": "display_data",
          "data": {
            "text/plain": [
              "<Figure size 640x480 with 1 Axes>"
            ],
            "image/png": "[encoded data removed]"
          },
          "metadata": {}
        },
        {
          "output_type": "stream",
          "name": "stdout",
          "text": [
            "\u001b[1m1/1\u001b[0m \u001b[32m━━━━━━━━━━━━━━━━━━━━\u001b[0m\u001b[37m\u001b[0m \u001b[1m0s\u001b[0m 47ms/step\n",
            "Prediction: 8, Label: 8\n"
          ]
        },
        {
          "output_type": "display_data",
          "data": {
            "text/plain": [
              "<Figure size 640x480 with 1 Axes>"
            ],
            "image/png": "[encoded data removed]"
          },
          "metadata": {}
        },
        {
          "output_type": "stream",
          "name": "stdout",
          "text": [
            "\u001b[1m1/1\u001b[0m \u001b[32m━━━━━━━━━━━━━━━━━━━━\u001b[0m\u001b[37m\u001b[0m \u001b[1m0s\u001b[0m 47ms/step\n",
            "Prediction: 4, Label: 4\n"
          ]
        },
        {
          "output_type": "display_data",
          "data": {
            "text/plain": [
              "<Figure size 640x480 with 1 Axes>"
            ],
            "image/png": "[encoded data removed]"
          },
          "metadata": {}
        }
      ]
    },
    {
      "cell_type": "code",
      "source": [
        "# Evaluate the model on the development set\n",
        "dev_loss, dev_accuracy = model.evaluate(X_dev, Y_dev)\n",
        "\n",
        "# Print Development Set Accuracy\n",
        "print(f\"Development Set Accuracy: {dev_accuracy:.4f}\")\n"
      ],
      "metadata": {
        "colab": {
          "base_uri": "https://localhost:8080/"
        },
        "id": "WVe0L18VElOC",
        "outputId": "99bcdde5-0ccf-4495-f3fc-a9c71ff174fd"
      },
      "execution_count": 62,
      "outputs": [
        {
          "output_type": "stream",
          "name": "stdout",
          "text": [
            "\u001b[1m32/32\u001b[0m \u001b[32m━━━━━━━━━━━━━━━━━━━━\u001b[0m\u001b[37m\u001b[0m \u001b[1m0s\u001b[0m 3ms/step - accuracy: 0.9628 - loss: 0.3211\n",
            "Development Set Accuracy: 0.9610\n"
          ]
        }
      ]
    }
  ]
}